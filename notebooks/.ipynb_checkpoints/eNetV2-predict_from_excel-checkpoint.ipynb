{
 "cells": [
  {
   "cell_type": "markdown",
   "metadata": {},
   "source": [
    "# eNetV2-predict_from_excel\n",
    "\n"
   ]
  },
  {
   "cell_type": "code",
   "execution_count": 1,
   "metadata": {
    "colab": {
     "base_uri": "https://localhost:8080/"
    },
    "executionInfo": {
     "elapsed": 29659,
     "status": "ok",
     "timestamp": 1645847013625,
     "user": {
      "displayName": "Kazuhide Mimura",
      "photoUrl": "https://lh3.googleusercontent.com/a/default-user=s64",
      "userId": "13848283603739284909"
     },
     "user_tz": -540
    },
    "id": "FkIP3YPzuhz9",
    "outputId": "27795ee5-8314-4b7e-f3c0-4ab1a7a59705"
   },
   "outputs": [
    {
     "name": "stdout",
     "output_type": "stream",
     "text": [
      "Mounted at /content/drive\n"
     ]
    }
   ],
   "source": [
    "from google.colab import drive\n",
    "drive.mount('/content/drive', force_remount=True)\n",
    "drive_path = '/content/drive/MyDrive/efficientnet-v2'\n",
    "import os\n",
    "os.chdir(drive_path)"
   ]
  },
  {
   "cell_type": "code",
   "execution_count": 2,
   "metadata": {
    "executionInfo": {
     "elapsed": 4,
     "status": "ok",
     "timestamp": 1645847013625,
     "user": {
      "displayName": "Kazuhide Mimura",
      "photoUrl": "https://lh3.googleusercontent.com/a/default-user=s64",
      "userId": "13848283603739284909"
     },
     "user_tz": -540
    },
    "id": "_JDzJ8Tuut1p"
   },
   "outputs": [],
   "source": [
    "# !pip install tensorflow= 2.5.0\n",
    "# !pip install tensorflow_hub= 0.12.0"
   ]
  },
  {
   "cell_type": "code",
   "execution_count": 3,
   "metadata": {
    "colab": {
     "base_uri": "https://localhost:8080/"
    },
    "executionInfo": {
     "elapsed": 4756,
     "status": "ok",
     "timestamp": 1645847018378,
     "user": {
      "displayName": "Kazuhide Mimura",
      "photoUrl": "https://lh3.googleusercontent.com/a/default-user=s64",
      "userId": "13848283603739284909"
     },
     "user_tz": -540
    },
    "id": "Sm3pmAmnu-GO",
    "outputId": "6b65185d-3def-4254-d27a-7109a6b30606"
   },
   "outputs": [
    {
     "name": "stdout",
     "output_type": "stream",
     "text": [
      "TF version: 2.8.0\n",
      "Hub version: 0.12.0\n",
      "Phsical devices: [PhysicalDevice(name='/physical_device:CPU:0', device_type='CPU'), PhysicalDevice(name='/physical_device:GPU:0', device_type='GPU')]\n"
     ]
    }
   ],
   "source": [
    "import tensorflow_hub as hub\n",
    "import json\n",
    "import shutil\n",
    "from skimage.io import imread, imsave\n",
    "from glob import glob\n",
    "import cv2\n",
    "import pandas as pd\n",
    "import seaborn as sns\n",
    "from sklearn.metrics import confusion_matrix\n",
    "import itertools\n",
    "import os\n",
    "import matplotlib.pylab as plt\n",
    "import numpy as np\n",
    "import tensorflow as tf\n",
    "import tensorflow_hub as hub\n",
    "from datetime import datetime, timedelta, timezone\n",
    "JST = timezone(timedelta(hours=+9), 'JST')\n",
    "\n",
    "from tensorflow.keras.preprocessing.image import ImageDataGenerator\n",
    "from tensorflow.keras.callbacks import ModelCheckpoint, ReduceLROnPlateau\n",
    "from tensorflow.keras.models import load_model\n",
    "from tensorflow.keras.utils import get_custom_objects\n",
    "from tensorflow.keras.layers import Activation\n",
    "from tensorflow.keras.backend import sigmoid\n",
    "from tensorflow_hub import KerasLayer\n",
    "\n",
    "print('TF version:', tf.__version__)\n",
    "print('Hub version:', hub.__version__)\n",
    "print('Phsical devices:', tf.config.list_physical_devices())"
   ]
  },
  {
   "cell_type": "code",
   "execution_count": 4,
   "metadata": {
    "executionInfo": {
     "elapsed": 19,
     "status": "ok",
     "timestamp": 1645847018379,
     "user": {
      "displayName": "Kazuhide Mimura",
      "photoUrl": "https://lh3.googleusercontent.com/a/default-user=s64",
      "userId": "13848283603739284909"
     },
     "user_tz": -540
    },
    "id": "utgTVEnRu-JU"
   },
   "outputs": [],
   "source": [
    "def get_hub_url_and_isize(model_name, ckpt_type, hub_type):\n",
    "    if ckpt_type == '-1k':\n",
    "    ckpt_type = ''  # json doesn't support empty string\n",
    "\n",
    "    hub_url_map = {\n",
    "    'efficientnetv2-b0': f'gs://cloud-tpu-checkpoints/efficientnet/v2/hub/efficientnetv2-b0/{hub_type}',\n",
    "    'efficientnetv2-b1': f'gs://cloud-tpu-checkpoints/efficientnet/v2/hub/efficientnetv2-b1/{hub_type}',\n",
    "    'efficientnetv2-b2': f'gs://cloud-tpu-checkpoints/efficientnet/v2/hub/efficientnetv2-b2/{hub_type}',\n",
    "    'efficientnetv2-b3': f'gs://cloud-tpu-checkpoints/efficientnet/v2/hub/efficientnetv2-b3/{hub_type}',\n",
    "    'efficientnetv2-s':  f'gs://cloud-tpu-checkpoints/efficientnet/v2/hub/efficientnetv2-s/{hub_type}',\n",
    "    'efficientnetv2-m':  f'gs://cloud-tpu-checkpoints/efficientnet/v2/hub/efficientnetv2-m/{hub_type}',\n",
    "    'efficientnetv2-l':  f'gs://cloud-tpu-checkpoints/efficientnet/v2/hub/efficientnetv2-l/{hub_type}',\n",
    "    'efficientnetv2-s-21k':  f'gs://cloud-tpu-checkpoints/efficientnet/v2/hub/efficientnetv2-s-21k/{hub_type}',\n",
    "    'efficientnetv2-m-21k':  f'gs://cloud-tpu-checkpoints/efficientnet/v2/hub/efficientnetv2-m-21k/{hub_type}',\n",
    "    'efficientnetv2-l-21k':  f'gs://cloud-tpu-checkpoints/efficientnet/v2/hub/efficientnetv2-l-21k/{hub_type}',\n",
    "    'efficientnetv2-s-21k-ft1k':  f'gs://cloud-tpu-checkpoints/efficientnet/v2/hub/efficientnetv2-s-21k-ft1k/{hub_type}',\n",
    "    'efficientnetv2-m-21k-ft1k':  f'gs://cloud-tpu-checkpoints/efficientnet/v2/hub/efficientnetv2-m-21k-ft1k/{hub_type}',\n",
    "    'efficientnetv2-l-21k-ft1k':  f'gs://cloud-tpu-checkpoints/efficientnet/v2/hub/efficientnetv2-l-21k-ft1k/{hub_type}',\n",
    "\n",
    "    # efficientnetv1\n",
    "    'efficientnet_b0': f'https://tfhub.dev/tensorflow/efficientnet/b0/{hub_type}/1',\n",
    "    'efficientnet_b1': f'https://tfhub.dev/tensorflow/efficientnet/b1/{hub_type}/1',\n",
    "    'efficientnet_b2': f'https://tfhub.dev/tensorflow/efficientnet/b2/{hub_type}/1',\n",
    "    'efficientnet_b3': f'https://tfhub.dev/tensorflow/efficientnet/b3/{hub_type}/1',\n",
    "    'efficientnet_b4': f'https://tfhub.dev/tensorflow/efficientnet/b4/{hub_type}/1',\n",
    "    'efficientnet_b5': f'https://tfhub.dev/tensorflow/efficientnet/b5/{hub_type}/1',\n",
    "    'efficientnet_b6': f'https://tfhub.dev/tensorflow/efficientnet/b6/{hub_type}/1',\n",
    "    'efficientnet_b7': f'https://tfhub.dev/tensorflow/efficientnet/b7/{hub_type}/1',\n",
    "    }\n",
    "\n",
    "    image_size_map = {\n",
    "    'efficientnetv2-b0': 224,\n",
    "    'efficientnetv2-b1': 240,\n",
    "    'efficientnetv2-b2': 260,\n",
    "    'efficientnetv2-b3': 300,\n",
    "    'efficientnetv2-s':  384,\n",
    "    'efficientnetv2-m':  480,\n",
    "    'efficientnetv2-l':  480,\n",
    "\n",
    "    'efficientnet_b0': 224,\n",
    "    'efficientnet_b1': 240,\n",
    "    'efficientnet_b2': 260,\n",
    "    'efficientnet_b3': 300,\n",
    "    'efficientnet_b4': 380,\n",
    "    'efficientnet_b5': 456,\n",
    "    'efficientnet_b6': 528,\n",
    "    'efficientnet_b7': 600,\n",
    "    }\n",
    "\n",
    "    hub_url = hub_url_map.get(model_name + ckpt_type)\n",
    "    image_size = image_size_map.get(model_name, 224)\n",
    "    return hub_url, image_size\n"
   ]
  },
  {
   "cell_type": "markdown",
   "metadata": {
    "id": "bCWCleYqvN3K"
   },
   "source": [
    "## 3.Inference with Panda image"
   ]
  },
  {
   "cell_type": "code",
   "execution_count": 5,
   "metadata": {
    "executionInfo": {
     "elapsed": 16,
     "status": "ok",
     "timestamp": 1645847018380,
     "user": {
      "displayName": "Kazuhide Mimura",
      "photoUrl": "https://lh3.googleusercontent.com/a/default-user=s64",
      "userId": "13848283603739284909"
     },
     "user_tz": -540
    },
    "id": "vulzIdDlu-MP"
   },
   "outputs": [],
   "source": [
    "# # Build model\n",
    "# import tensorflow_hub as hub\n",
    "# model_name = 'efficientnetv2-s' #@param {type:'string'}\n",
    "# ckpt_type = '-21k-ft1k'   # @param ['-21k', '-21k-ft1k', '-1k']\n",
    "# hub_type = 'classification' # @param ['classification', 'feature-vector']\n",
    "# hub_url, image_size = get_hub_url_and_isize(model_name, ckpt_type, hub_type)\n",
    "# tf.keras.backend.clear_session()\n",
    "# m = hub.KerasLayer(hub_url, trainable=False)\n",
    "# m.build([None, 224, 224, 3])  # Batch input shape.\n",
    "\n",
    "# # Download label map file and image\n",
    "# labels_map = '/tmp/labels_map.txt'\n",
    "# image_file = '/tmp/panda.jpg'\n",
    "# tf.keras.utils.get_file(image_file, 'https://upload.wikimedia.org/wikipedia/commons/f/fe/Giant_Panda_in_Beijing_Zoo_1.JPG')\n",
    "# tf.keras.utils.get_file(labels_map, 'https://storage.googleapis.com/cloud-tpu-checkpoints/efficientnet/eval_data/labels_map.txt')\n",
    "\n",
    "# # preprocess image.\n",
    "# image = tf.keras.preprocessing.image.load_img(image_file, target_size=(224, 224))\n",
    "# image = tf.keras.preprocessing.image.img_to_array(image)\n",
    "# image = (image - 128.) / 128.\n",
    "# logits = m(tf.expand_dims(image, 0), False)\n",
    "\n",
    "# # Output classes and probability\n",
    "# pred = tf.keras.layers.Softmax()(logits)\n",
    "# idx = tf.argsort(logits[0])[::-1][:5].numpy()\n",
    "# import ast\n",
    "# classes = ast.literal_eval(open(labels_map, \"r\").read())\n",
    "# for i, id in enumerate(idx):\n",
    "#   print(f'top {i+1} ({pred[0][id]*100:.1f}%):  {classes[id]} ')\n",
    "# from IPython import display\n",
    "# display.display(display.Image(image_file))"
   ]
  },
  {
   "cell_type": "code",
   "execution_count": 6,
   "metadata": {
    "executionInfo": {
     "elapsed": 14,
     "status": "ok",
     "timestamp": 1645847018381,
     "user": {
      "displayName": "Kazuhide Mimura",
      "photoUrl": "https://lh3.googleusercontent.com/a/default-user=s64",
      "userId": "13848283603739284909"
     },
     "user_tz": -540
    },
    "id": "ZdJ8hi791HC9"
   },
   "outputs": [],
   "source": [
    "# Build model\n",
    "model_name = 'efficientnetv2-b0' \n",
    "ckpt_type = '-1k'\n",
    "hub_type = 'feature-vector'\n",
    "batch_size =  32 #@param {type:\"integer\"}\n",
    "hub_url, image_size = get_hub_url_and_isize(model_name, ckpt_type, hub_type)"
   ]
  },
  {
   "cell_type": "code",
   "execution_count": 7,
   "metadata": {
    "executionInfo": {
     "elapsed": 12,
     "status": "ok",
     "timestamp": 1645847018381,
     "user": {
      "displayName": "Kazuhide Mimura",
      "photoUrl": "https://lh3.googleusercontent.com/a/default-user=s64",
      "userId": "13848283603739284909"
     },
     "user_tz": -540
    },
    "id": "J0NdYzk-u-OZ"
   },
   "outputs": [],
   "source": [
    "# もろもろ定義\n",
    "\n",
    "# 入力された画像を，指定したサイズの正方形にリサイズする\n",
    "def SquareResize(img, size, background = 'mean'):\n",
    "    h, w = img.shape[:2]\n",
    "    mag = size / max(h, w)\n",
    "    img2 = cv2.resize(img, dsize = None, fx = mag, fy = mag)\n",
    "    \n",
    "    if background == 'mean':\n",
    "        background = int(np.mean(img))\n",
    "    img3 = np.ones((size, size, 3), dtype = \"u1\") * background\n",
    "    if h > w:\n",
    "        img3[0 : img2.shape[0], int((size - img2.shape[1]) / 2): int((size + img2.shape[1]) / 2)] = img2\n",
    "    else:\n",
    "        img3[int((size - img2.shape[0]) / 2) : int((size + img2.shape[0]) / 2), 0:img2.shape[1]] = img2\n",
    "    \n",
    "    return(img3)\n",
    "\n",
    "# json file の保存用\n",
    "class MyEncoder(json.JSONEncoder):\n",
    "    def default(self, obj):\n",
    "        if isinstance(obj, np.integer):\n",
    "            return int(obj)\n",
    "        elif isinstance(obj, np.floating):\n",
    "            return float(obj)\n",
    "        elif isinstance(obj, np.ndarray):\n",
    "            return obj.tolist()\n",
    "        else:\n",
    "            return super(MyEncoder, self).default(obj)\n",
    "\n",
    "# モデルの活性化関数\n",
    "# https://towardsdatascience.com/comparison-of-activation-functions-for-deep-neural-networks-706ac4284c8a\n",
    "class SwishActivation(Activation):\n",
    "    def __init__(self, activation, **kwargs):\n",
    "        super(SwishActivation, self).__init__(activation, **kwargs)\n",
    "        self.__name__ = 'swish_act'\n",
    "def swish_act(x, beta = 1):\n",
    "    return (x * sigmoid(beta * x))\n",
    "\n",
    "# 終了時に音を出す\n",
    "# https://qiita.com/skiing_LAL10/items/78be5e7aaaffe461c3ac\n",
    "def beep():\n",
    "    from google.colab import output\n",
    "    output.eval_js('new Audio(\\\n",
    "    \"https://upload.wikimedia.org/wikipedia/commons/0/05/Beep-09.ogg\")\\\n",
    "    .play()') "
   ]
  },
  {
   "cell_type": "code",
   "execution_count": 8,
   "metadata": {
    "colab": {
     "base_uri": "https://localhost:8080/"
    },
    "executionInfo": {
     "elapsed": 2045,
     "status": "ok",
     "timestamp": 1645847020415,
     "user": {
      "displayName": "Kazuhide Mimura",
      "photoUrl": "https://lh3.googleusercontent.com/a/default-user=s64",
      "userId": "13848283603739284909"
     },
     "user_tz": -540
    },
    "id": "cahjlxuZNZlS",
    "outputId": "e5502fc2-71f1-4d97-bcf4-7aa59703a5b0"
   },
   "outputs": [
    {
     "name": "stdout",
     "output_type": "stream",
     "text": [
      "best epoch: 19\n"
     ]
    }
   ],
   "source": [
    "model_dir = os.path.join(drive_path, 'models')\n",
    "model_base = '20211224_hirox_2class' # @param {type:\"string\"}\n",
    "assert os.path.exists(os.path.join(model_dir, model_base))\n",
    "\n",
    "best_epoch_path = os.path.join(model_dir, model_base, 'best_epoch.txt')\n",
    "if os.path.exists(best_epoch_path):\n",
    "    with open(best_epoch_path, 'r') as f:\n",
    "        best_epoch = int(f.read())\n",
    "    print('best epoch:', best_epoch)\n",
    "else:\n",
    "    print('no best-epoch file')"
   ]
  },
  {
   "cell_type": "code",
   "execution_count": 9,
   "metadata": {
    "colab": {
     "base_uri": "https://localhost:8080/",
     "height": 35
    },
    "executionInfo": {
     "elapsed": 26405,
     "status": "ok",
     "timestamp": 1645847048697,
     "user": {
      "displayName": "Kazuhide Mimura",
      "photoUrl": "https://lh3.googleusercontent.com/a/default-user=s64",
      "userId": "13848283603739284909"
     },
     "user_tz": -540
    },
    "id": "Z24vqBUYu-Qf",
    "outputId": "8e2866c8-9865-4261-a10c-c59558a35c9b"
   },
   "outputs": [
    {
     "name": "stdout",
     "output_type": "stream",
     "text": [
      "{'tooth': 0, 'noise': 1}\n"
     ]
    }
   ],
   "source": [
    "best_epoch =  19# @param {type:\"integer\"}\n",
    "get_custom_objects().update({'swish_act': SwishActivation(swish_act), \n",
    "                             'KerasLayer': KerasLayer})\n",
    "model_dir = os.path.join(drive_path, 'models')\n",
    "model_final = load_model(os.path.join(model_dir, model_base, f'effcientnet_model_{best_epoch:02d}.h5'), \n",
    "                         custom_objects={'KerasLayer': KerasLayer})\n",
    "\n",
    "# クラス名の読み込み\n",
    "class_dict_path = os.path.join(model_dir, model_base, 'class_dict.json')\n",
    "with open(class_dict_path) as f:\n",
    "    class_dict = json.load(f)\n",
    "print(class_dict)\n",
    "class_names = list(class_dict.keys())\n",
    "\n",
    "beep()"
   ]
  },
  {
   "cell_type": "code",
   "execution_count": 35,
   "metadata": {
    "executionInfo": {
     "elapsed": 941,
     "status": "ok",
     "timestamp": 1645859784425,
     "user": {
      "displayName": "Kazuhide Mimura",
      "photoUrl": "https://lh3.googleusercontent.com/a/default-user=s64",
      "userId": "13848283603739284909"
     },
     "user_tz": -540
    },
    "id": "XbPJo0qBu-TK"
   },
   "outputs": [],
   "source": [
    "Site_ID = 'Site_U1370' # @param{type:\"string\"}\n",
    "Sample_ID = 'U1370D_08_CC_22'# @param{type:\"string\"}\n",
    "excel_path = f'/content/drive/My Drive/ai_ichthyolith/data/annotations/{Sample_ID}/{Sample_ID}_detections.xlsx'\n",
    "hirox_image_dir = f'/content/drive/MyDrive/ai_ichthyolith/data/images/hirox/{Site_ID}/{Sample_ID}'\n",
    "draw_img_dir = os.path.join(drive_path, 'results', model_base, Sample_ID)\n",
    "\n",
    "for path in [excel_path, hirox_image_dir]:\n",
    "    assert os.path.exists(path), f\"path not exists: {path}\""
   ]
  },
  {
   "cell_type": "code",
   "execution_count": 36,
   "metadata": {
    "colab": {
     "base_uri": "https://localhost:8080/",
     "height": 1000
    },
    "executionInfo": {
     "elapsed": 3737,
     "status": "ok",
     "timestamp": 1645859789438,
     "user": {
      "displayName": "Kazuhide Mimura",
      "photoUrl": "https://lh3.googleusercontent.com/a/default-user=s64",
      "userId": "13848283603739284909"
     },
     "user_tz": -540
    },
    "id": "wD_Yyq7Ru-Wu",
    "outputId": "7c007d67-20bd-40d7-eada-138897e6d4f8"
   },
   "outputs": [
    {
     "data": {
      "text/html": [
       "\n",
       "  <div id=\"df-0984c993-43a8-42e4-931b-d6a8737575d9\">\n",
       "    <div class=\"colab-df-container\">\n",
       "      <div>\n",
       "<style scoped>\n",
       "    .dataframe tbody tr th:only-of-type {\n",
       "        vertical-align: middle;\n",
       "    }\n",
       "\n",
       "    .dataframe tbody tr th {\n",
       "        vertical-align: top;\n",
       "    }\n",
       "\n",
       "    .dataframe thead th {\n",
       "        text-align: right;\n",
       "    }\n",
       "</style>\n",
       "<table border=\"1\" class=\"dataframe\">\n",
       "  <thead>\n",
       "    <tr style=\"text-align: right;\">\n",
       "      <th></th>\n",
       "      <th>id</th>\n",
       "      <th>original_slide_name</th>\n",
       "      <th>x_min</th>\n",
       "      <th>y_min</th>\n",
       "      <th>x_max</th>\n",
       "      <th>y_max</th>\n",
       "      <th>all_points_x</th>\n",
       "      <th>all_points_y</th>\n",
       "      <th>length</th>\n",
       "      <th>size</th>\n",
       "      <th>mode</th>\n",
       "      <th>class</th>\n",
       "      <th>detected_class</th>\n",
       "      <th>score</th>\n",
       "      <th>cropped_imgName</th>\n",
       "      <th>rel_x_min</th>\n",
       "      <th>rel_y_min</th>\n",
       "      <th>rel_x_max</th>\n",
       "      <th>rel_y_max</th>\n",
       "    </tr>\n",
       "  </thead>\n",
       "  <tbody>\n",
       "    <tr>\n",
       "      <th>0</th>\n",
       "      <td>207</td>\n",
       "      <td>U1370D_08_CC_22_001.jpg</td>\n",
       "      <td>13568</td>\n",
       "      <td>824</td>\n",
       "      <td>13669</td>\n",
       "      <td>928</td>\n",
       "      <td>13583, 13575, 13574, 13579, 13584, 13592, 1361...</td>\n",
       "      <td>825, 836, 852, 867, 879, 892, 911, 916, 921, 9...</td>\n",
       "      <td>98</td>\n",
       "      <td>7658.294036</td>\n",
       "      <td>NaN</td>\n",
       "      <td>NaN</td>\n",
       "      <td>tooth</td>\n",
       "      <td>0.748535</td>\n",
       "      <td>U1370D_08_CC_22_001_0_12480.jpg</td>\n",
       "      <td>1088</td>\n",
       "      <td>824</td>\n",
       "      <td>1189</td>\n",
       "      <td>928</td>\n",
       "    </tr>\n",
       "    <tr>\n",
       "      <th>1</th>\n",
       "      <td>15</td>\n",
       "      <td>U1370D_08_CC_22_001.jpg</td>\n",
       "      <td>12811</td>\n",
       "      <td>18</td>\n",
       "      <td>13352</td>\n",
       "      <td>385</td>\n",
       "      <td>13304, 13223, 13153, 13100, 13044, 12960, 1288...</td>\n",
       "      <td>27, 95, 144, 172, 205, 267, 317, 374, 360, 337...</td>\n",
       "      <td>564</td>\n",
       "      <td>47956.239910</td>\n",
       "      <td>NaN</td>\n",
       "      <td>NaN</td>\n",
       "      <td>tooth</td>\n",
       "      <td>0.985840</td>\n",
       "      <td>U1370D_08_CC_22_001_0_12480.jpg</td>\n",
       "      <td>331</td>\n",
       "      <td>18</td>\n",
       "      <td>872</td>\n",
       "      <td>385</td>\n",
       "    </tr>\n",
       "    <tr>\n",
       "      <th>2</th>\n",
       "      <td>21</td>\n",
       "      <td>U1370D_08_CC_22_001.jpg</td>\n",
       "      <td>13900</td>\n",
       "      <td>680</td>\n",
       "      <td>14106</td>\n",
       "      <td>1158</td>\n",
       "      <td>13917, 13920, 13939, 13972, 14003, 14022, 1403...</td>\n",
       "      <td>711, 872, 913, 963, 1013, 1051, 1103, 1152, 10...</td>\n",
       "      <td>453</td>\n",
       "      <td>40665.442113</td>\n",
       "      <td>NaN</td>\n",
       "      <td>NaN</td>\n",
       "      <td>tooth</td>\n",
       "      <td>0.982910</td>\n",
       "      <td>U1370D_08_CC_22_001_0_13440.jpg</td>\n",
       "      <td>460</td>\n",
       "      <td>680</td>\n",
       "      <td>666</td>\n",
       "      <td>1158</td>\n",
       "    </tr>\n",
       "    <tr>\n",
       "      <th>3</th>\n",
       "      <td>194</td>\n",
       "      <td>U1370D_08_CC_22_001.jpg</td>\n",
       "      <td>13450</td>\n",
       "      <td>555</td>\n",
       "      <td>13790</td>\n",
       "      <td>787</td>\n",
       "      <td>13680, 13624, 13584, 13557, 13529, 13492, 1345...</td>\n",
       "      <td>557, 577, 603, 616, 630, 653, 690, 743, 718, 7...</td>\n",
       "      <td>314</td>\n",
       "      <td>24186.424534</td>\n",
       "      <td>NaN</td>\n",
       "      <td>NaN</td>\n",
       "      <td>tooth</td>\n",
       "      <td>0.773926</td>\n",
       "      <td>U1370D_08_CC_22_001_0_13440.jpg</td>\n",
       "      <td>10</td>\n",
       "      <td>555</td>\n",
       "      <td>350</td>\n",
       "      <td>787</td>\n",
       "    </tr>\n",
       "    <tr>\n",
       "      <th>4</th>\n",
       "      <td>142</td>\n",
       "      <td>U1370D_08_CC_22_001.jpg</td>\n",
       "      <td>18304</td>\n",
       "      <td>27</td>\n",
       "      <td>18474</td>\n",
       "      <td>213</td>\n",
       "      <td>18355, 18337, 18325, 18326, 18362, 18389, 1845...</td>\n",
       "      <td>32, 38, 50, 71, 112, 133, 198, 187, 133, 122, ...</td>\n",
       "      <td>192</td>\n",
       "      <td>10509.909350</td>\n",
       "      <td>NaN</td>\n",
       "      <td>NaN</td>\n",
       "      <td>tooth</td>\n",
       "      <td>0.872070</td>\n",
       "      <td>U1370D_08_CC_22_001_0_17280.jpg</td>\n",
       "      <td>1024</td>\n",
       "      <td>27</td>\n",
       "      <td>1194</td>\n",
       "      <td>213</td>\n",
       "    </tr>\n",
       "    <tr>\n",
       "      <th>...</th>\n",
       "      <td>...</td>\n",
       "      <td>...</td>\n",
       "      <td>...</td>\n",
       "      <td>...</td>\n",
       "      <td>...</td>\n",
       "      <td>...</td>\n",
       "      <td>...</td>\n",
       "      <td>...</td>\n",
       "      <td>...</td>\n",
       "      <td>...</td>\n",
       "      <td>...</td>\n",
       "      <td>...</td>\n",
       "      <td>...</td>\n",
       "      <td>...</td>\n",
       "      <td>...</td>\n",
       "      <td>...</td>\n",
       "      <td>...</td>\n",
       "      <td>...</td>\n",
       "      <td>...</td>\n",
       "    </tr>\n",
       "    <tr>\n",
       "      <th>6872</th>\n",
       "      <td>6877</td>\n",
       "      <td>U1370D_08_CC_22_016.jpg</td>\n",
       "      <td>7368</td>\n",
       "      <td>1015</td>\n",
       "      <td>7755</td>\n",
       "      <td>1222</td>\n",
       "      <td>7388, 7398, 7426, 7466, 7509, 7601, 7631, 7659...</td>\n",
       "      <td>1054, 1112, 1153, 1189, 1202, 1192, 1179, 1164...</td>\n",
       "      <td>301</td>\n",
       "      <td>34042.970324</td>\n",
       "      <td>NaN</td>\n",
       "      <td>NaN</td>\n",
       "      <td>tooth</td>\n",
       "      <td>0.504883</td>\n",
       "      <td>U1370D_08_CC_22_016_960_6720.jpg</td>\n",
       "      <td>648</td>\n",
       "      <td>55</td>\n",
       "      <td>1035</td>\n",
       "      <td>262</td>\n",
       "    </tr>\n",
       "    <tr>\n",
       "      <th>6873</th>\n",
       "      <td>6849</td>\n",
       "      <td>U1370D_08_CC_22_016.jpg</td>\n",
       "      <td>7866</td>\n",
       "      <td>976</td>\n",
       "      <td>8071</td>\n",
       "      <td>1150</td>\n",
       "      <td>7920, 7871, 7881, 7899, 7911, 7937, 7950, 7979...</td>\n",
       "      <td>977, 989, 1011, 1035, 1054, 1086, 1104, 1126, ...</td>\n",
       "      <td>156</td>\n",
       "      <td>23676.494704</td>\n",
       "      <td>NaN</td>\n",
       "      <td>NaN</td>\n",
       "      <td>tooth</td>\n",
       "      <td>0.596680</td>\n",
       "      <td>U1370D_08_CC_22_016_960_7680.jpg</td>\n",
       "      <td>186</td>\n",
       "      <td>16</td>\n",
       "      <td>391</td>\n",
       "      <td>190</td>\n",
       "    </tr>\n",
       "    <tr>\n",
       "      <th>6874</th>\n",
       "      <td>6850</td>\n",
       "      <td>U1370D_08_CC_22_016.jpg</td>\n",
       "      <td>7943</td>\n",
       "      <td>1139</td>\n",
       "      <td>8013</td>\n",
       "      <td>1284</td>\n",
       "      <td>7958, 7949, 7945, 7947, 7951, 7956, 7972, 7982...</td>\n",
       "      <td>1141, 1147, 1155, 1178, 1199, 1221, 1241, 1255...</td>\n",
       "      <td>118</td>\n",
       "      <td>7387.418878</td>\n",
       "      <td>NaN</td>\n",
       "      <td>NaN</td>\n",
       "      <td>tooth</td>\n",
       "      <td>0.596191</td>\n",
       "      <td>U1370D_08_CC_22_016_960_7680.jpg</td>\n",
       "      <td>263</td>\n",
       "      <td>179</td>\n",
       "      <td>333</td>\n",
       "      <td>324</td>\n",
       "    </tr>\n",
       "    <tr>\n",
       "      <th>6875</th>\n",
       "      <td>6787</td>\n",
       "      <td>U1370D_08_CC_22_016.jpg</td>\n",
       "      <td>1202</td>\n",
       "      <td>1098</td>\n",
       "      <td>2160</td>\n",
       "      <td>1683</td>\n",
       "      <td>2040, 1969, 1901, 1814, 1728, 1614, 1520, 1427...</td>\n",
       "      <td>1146, 1175, 1211, 1272, 1332, 1420, 1491, 1566...</td>\n",
       "      <td>712</td>\n",
       "      <td>81411.326523</td>\n",
       "      <td>NaN</td>\n",
       "      <td>NaN</td>\n",
       "      <td>tooth</td>\n",
       "      <td>0.865723</td>\n",
       "      <td>U1370D_08_CC_22_016_960_960.jpg</td>\n",
       "      <td>242</td>\n",
       "      <td>138</td>\n",
       "      <td>1200</td>\n",
       "      <td>723</td>\n",
       "    </tr>\n",
       "    <tr>\n",
       "      <th>6876</th>\n",
       "      <td>6751</td>\n",
       "      <td>U1370D_08_CC_22_016.jpg</td>\n",
       "      <td>10500</td>\n",
       "      <td>1927</td>\n",
       "      <td>10652</td>\n",
       "      <td>2053</td>\n",
       "      <td>10601, 10554, 10547, 10540, 10534, 10526, 1050...</td>\n",
       "      <td>1927, 1948, 1971, 1984, 1999, 2015, 2045, 2040...</td>\n",
       "      <td>167</td>\n",
       "      <td>9794.312060</td>\n",
       "      <td>NaN</td>\n",
       "      <td>NaN</td>\n",
       "      <td>tooth</td>\n",
       "      <td>0.932129</td>\n",
       "      <td>U1370D_08_CC_22_016_960_9600.jpg</td>\n",
       "      <td>900</td>\n",
       "      <td>967</td>\n",
       "      <td>1052</td>\n",
       "      <td>1093</td>\n",
       "    </tr>\n",
       "  </tbody>\n",
       "</table>\n",
       "<p>6877 rows × 19 columns</p>\n",
       "</div>\n",
       "      <button class=\"colab-df-convert\" onclick=\"convertToInteractive('df-0984c993-43a8-42e4-931b-d6a8737575d9')\"\n",
       "              title=\"Convert this dataframe to an interactive table.\"\n",
       "              style=\"display:none;\">\n",
       "        \n",
       "  <svg xmlns=\"http://www.w3.org/2000/svg\" height=\"24px\"viewBox=\"0 0 24 24\"\n",
       "       width=\"24px\">\n",
       "    <path d=\"M0 0h24v24H0V0z\" fill=\"none\"/>\n",
       "    <path d=\"M18.56 5.44l.94 2.06.94-2.06 2.06-.94-2.06-.94-.94-2.06-.94 2.06-2.06.94zm-11 1L8.5 8.5l.94-2.06 2.06-.94-2.06-.94L8.5 2.5l-.94 2.06-2.06.94zm10 10l.94 2.06.94-2.06 2.06-.94-2.06-.94-.94-2.06-.94 2.06-2.06.94z\"/><path d=\"M17.41 7.96l-1.37-1.37c-.4-.4-.92-.59-1.43-.59-.52 0-1.04.2-1.43.59L10.3 9.45l-7.72 7.72c-.78.78-.78 2.05 0 2.83L4 21.41c.39.39.9.59 1.41.59.51 0 1.02-.2 1.41-.59l7.78-7.78 2.81-2.81c.8-.78.8-2.07 0-2.86zM5.41 20L4 18.59l7.72-7.72 1.47 1.35L5.41 20z\"/>\n",
       "  </svg>\n",
       "      </button>\n",
       "      \n",
       "  <style>\n",
       "    .colab-df-container {\n",
       "      display:flex;\n",
       "      flex-wrap:wrap;\n",
       "      gap: 12px;\n",
       "    }\n",
       "\n",
       "    .colab-df-convert {\n",
       "      background-color: #E8F0FE;\n",
       "      border: none;\n",
       "      border-radius: 50%;\n",
       "      cursor: pointer;\n",
       "      display: none;\n",
       "      fill: #1967D2;\n",
       "      height: 32px;\n",
       "      padding: 0 0 0 0;\n",
       "      width: 32px;\n",
       "    }\n",
       "\n",
       "    .colab-df-convert:hover {\n",
       "      background-color: #E2EBFA;\n",
       "      box-shadow: 0px 1px 2px rgba(60, 64, 67, 0.3), 0px 1px 3px 1px rgba(60, 64, 67, 0.15);\n",
       "      fill: #174EA6;\n",
       "    }\n",
       "\n",
       "    [theme=dark] .colab-df-convert {\n",
       "      background-color: #3B4455;\n",
       "      fill: #D2E3FC;\n",
       "    }\n",
       "\n",
       "    [theme=dark] .colab-df-convert:hover {\n",
       "      background-color: #434B5C;\n",
       "      box-shadow: 0px 1px 3px 1px rgba(0, 0, 0, 0.15);\n",
       "      filter: drop-shadow(0px 1px 2px rgba(0, 0, 0, 0.3));\n",
       "      fill: #FFFFFF;\n",
       "    }\n",
       "  </style>\n",
       "\n",
       "      <script>\n",
       "        const buttonEl =\n",
       "          document.querySelector('#df-0984c993-43a8-42e4-931b-d6a8737575d9 button.colab-df-convert');\n",
       "        buttonEl.style.display =\n",
       "          google.colab.kernel.accessAllowed ? 'block' : 'none';\n",
       "\n",
       "        async function convertToInteractive(key) {\n",
       "          const element = document.querySelector('#df-0984c993-43a8-42e4-931b-d6a8737575d9');\n",
       "          const dataTable =\n",
       "            await google.colab.kernel.invokeFunction('convertToInteractive',\n",
       "                                                     [key], {});\n",
       "          if (!dataTable) return;\n",
       "\n",
       "          const docLinkHtml = 'Like what you see? Visit the ' +\n",
       "            '<a target=\"_blank\" href=https://colab.research.google.com/notebooks/data_table.ipynb>data table notebook</a>'\n",
       "            + ' to learn more about interactive tables.';\n",
       "          element.innerHTML = '';\n",
       "          dataTable['output_type'] = 'display_data';\n",
       "          await google.colab.output.renderOutput(dataTable, element);\n",
       "          const docLink = document.createElement('div');\n",
       "          docLink.innerHTML = docLinkHtml;\n",
       "          element.appendChild(docLink);\n",
       "        }\n",
       "      </script>\n",
       "    </div>\n",
       "  </div>\n",
       "  "
      ],
      "text/plain": [
       "        id      original_slide_name  x_min  ...  rel_y_min  rel_x_max  rel_y_max\n",
       "0      207  U1370D_08_CC_22_001.jpg  13568  ...        824       1189        928\n",
       "1       15  U1370D_08_CC_22_001.jpg  12811  ...         18        872        385\n",
       "2       21  U1370D_08_CC_22_001.jpg  13900  ...        680        666       1158\n",
       "3      194  U1370D_08_CC_22_001.jpg  13450  ...        555        350        787\n",
       "4      142  U1370D_08_CC_22_001.jpg  18304  ...         27       1194        213\n",
       "...    ...                      ...    ...  ...        ...        ...        ...\n",
       "6872  6877  U1370D_08_CC_22_016.jpg   7368  ...         55       1035        262\n",
       "6873  6849  U1370D_08_CC_22_016.jpg   7866  ...         16        391        190\n",
       "6874  6850  U1370D_08_CC_22_016.jpg   7943  ...        179        333        324\n",
       "6875  6787  U1370D_08_CC_22_016.jpg   1202  ...        138       1200        723\n",
       "6876  6751  U1370D_08_CC_22_016.jpg  10500  ...        967       1052       1093\n",
       "\n",
       "[6877 rows x 19 columns]"
      ]
     },
     "execution_count": 36,
     "metadata": {},
     "output_type": "execute_result"
    }
   ],
   "source": [
    "# load excel file generated by Mask R-CNN\n",
    "save_excel_name = 'mask_enet_results.xlsx' \n",
    "save_excel_path = os.path.join(draw_img_dir, save_excel_name)\n",
    "df = pd.read_excel(excel_path, index_col=0)\n",
    "df = df.rename(columns={'cropped_name': 'cropped_imgName'})\n",
    "df = df.sort_values('cropped_imgName')\n",
    "df = df.reset_index(drop=True)\n",
    "df"
   ]
  },
  {
   "cell_type": "code",
   "execution_count": 37,
   "metadata": {
    "executionInfo": {
     "elapsed": 6,
     "status": "ok",
     "timestamp": 1645859789439,
     "user": {
      "displayName": "Kazuhide Mimura",
      "photoUrl": "https://lh3.googleusercontent.com/a/default-user=s64",
      "userId": "13848283603739284909"
     },
     "user_tz": -540
    },
    "id": "ctQiT7PSFzb2"
   },
   "outputs": [],
   "source": [
    "# # Excel を読み込んで途中から再開する場合\n",
    "# save_excel_path = os.path.join(draw_img_dir, 'mask_enet_results.xlsx')\n",
    "# df = pd.read_excel(save_excel_path, index_col=0)\n",
    "# df"
   ]
  },
  {
   "cell_type": "code",
   "execution_count": 38,
   "metadata": {
    "executionInfo": {
     "elapsed": 5,
     "status": "ok",
     "timestamp": 1645859789439,
     "user": {
      "displayName": "Kazuhide Mimura",
      "photoUrl": "https://lh3.googleusercontent.com/a/default-user=s64",
      "userId": "13848283603739284909"
     },
     "user_tz": -540
    },
    "id": "2_vtfNvgu-aE"
   },
   "outputs": [],
   "source": [
    "def generateImg_from_crop(crop_img, box, filename, margin = 30):\n",
    "    \"\"\"\n",
    "    box : y_min, x_min, y_max, x_max\n",
    "    \"\"\"\n",
    "    y0, x0 = map(int, filename[:-4].split('_')[-2:])\n",
    "    y_start = max(box[0] - y0 - margin, 0)\n",
    "    y_end = min(box[2] - y0 + margin, crop_img.shape[0])\n",
    "    x_start = max(box[1] - x0 - margin, 0)\n",
    "    x_end = min(box[3] - x0 + margin, crop_img.shape[1])\n",
    "    trimmed_img = crop_img[y_start:y_end, x_start:x_end]\n",
    "    savename = f\"{'_'.join(filename[:-4].split('_')[:-2])}_{y0 + y_start}_{x0 + x_start}.jpg\"\n",
    "    return(trimmed_img, savename)"
   ]
  },
  {
   "cell_type": "code",
   "execution_count": 39,
   "metadata": {
    "executionInfo": {
     "elapsed": 5,
     "status": "ok",
     "timestamp": 1645859789439,
     "user": {
      "displayName": "Kazuhide Mimura",
      "photoUrl": "https://lh3.googleusercontent.com/a/default-user=s64",
      "userId": "13848283603739284909"
     },
     "user_tz": -540
    },
    "id": "3SaUDGxQu-dC"
   },
   "outputs": [],
   "source": [
    "# クラス毎に書き出すかを指定\n",
    "# 1: 分類した全ての画像を書き出し，0~1：分類した画像の一部を書き出し，0: 全て書き出さない\n",
    "draw_class = {'tooth': 1, 'noise': 0.05} #@param{type:\"raw\"}\n",
    "\n",
    "assert all([cl in class_names for cl in draw_class.keys()])\n",
    "\n",
    "if os.path.exists(draw_img_dir):\n",
    "    print(draw_img_dir)\n",
    "    if input(f\"refresh directory? (y for yes) \") == 'y':\n",
    "        shutil.rmtree(draw_img_dir)\n",
    "    else:\n",
    "        print('directory not refreshed')\n",
    "os.makedirs(draw_img_dir, exist_ok=True)\n",
    "\n",
    "# 書き出すフォルダを作成\n",
    "for cl in draw_class.keys():\n",
    "    os.makedirs(os.path.join(draw_img_dir, cl), exist_ok=True)"
   ]
  },
  {
   "cell_type": "code",
   "execution_count": 40,
   "metadata": {
    "colab": {
     "base_uri": "https://localhost:8080/",
     "height": 325
    },
    "executionInfo": {
     "elapsed": 3992406,
     "status": "ok",
     "timestamp": 1645863781841,
     "user": {
      "displayName": "Kazuhide Mimura",
      "photoUrl": "https://lh3.googleusercontent.com/a/default-user=s64",
      "userId": "13848283603739284909"
     },
     "user_tz": -540
    },
    "id": "GCXngjwQwNXZ",
    "outputId": "370c6d14-768c-484f-c57f-6a965423dc0f"
   },
   "outputs": [
    {
     "name": "stdout",
     "output_type": "stream",
     "text": [
      "16:16  0/6877, num_drawn: 0\n",
      "16:22  500/6877, num_drawn: 31\n",
      "16:26  1000/6877, num_drawn: 56\n",
      "16:31  1500/6877, num_drawn: 87\n",
      "16:36  2000/6877, num_drawn: 120\n",
      "16:40  2500/6877, num_drawn: 137\n",
      "16:44  3000/6877, num_drawn: 162\n",
      "16:49  3500/6877, num_drawn: 189\n",
      "16:54  4000/6877, num_drawn: 217\n",
      "16:58  4500/6877, num_drawn: 258\n",
      "17:02  5000/6877, num_drawn: 282\n",
      "17:07  5500/6877, num_drawn: 308\n",
      "17:13  6000/6877, num_drawn: 338\n",
      "17:18  6500/6877, num_drawn: 369\n",
      "saved: /content/drive/MyDrive/efficientnet-v2/results/20211224_hirox_2class/U1370D_08_CC_22/mask_enet_results.xlsx\n",
      "17:23  Done\n"
     ]
    }
   ],
   "source": [
    "# 個別ファイルで予測\n",
    "\n",
    "score_threshold = 0.45 # @param {type:\"number\"}\n",
    "scale_factor = 3 # @param {type:\"integer\"} 画像を書き出す際の拡大倍率 \n",
    "\n",
    "cnt = 0\n",
    "num_drawn = 0\n",
    "prev_name = ''\n",
    "check_score = 'enet_score' in df.columns\n",
    "\n",
    "for index, item in df.iterrows():\n",
    "    predict = True\n",
    "    if check_score:\n",
    "        if pd.notna(item['enet_score']):\n",
    "            predict = False\n",
    "            \n",
    "    if predict:\n",
    "        if cnt % 500 == 0:\n",
    "            dt_now = datetime.now(JST)\n",
    "            print(f'{dt_now.strftime(\"%H:%M\")}  {cnt}/{len(df)}, num_drawn: {num_drawn}')\n",
    "            if all([cnt >= 1, cnt % 10000 == 0]):\n",
    "                df.to_excel(save_excel_path)\n",
    "                print('saved:', save_excel_path)\n",
    "\n",
    "        filename = item['cropped_imgName']\n",
    "        if filename != prev_name:\n",
    "            slide_No = filename.split('_')[Sample_ID.count('_') + 1]\n",
    "            img_path = f\"{hirox_image_dir}/{Sample_ID}_{slide_No}/{filename}\"\n",
    "            crop_img = imread(img_path)\n",
    "            prev_name = filename\n",
    "        \n",
    "        \n",
    "        box = list(item[['y_min', 'x_min', 'y_max', 'x_max']])\n",
    "        img, img_name = generateImg_from_crop(crop_img, box, filename, margin = 30)\n",
    "        img1 = SquareResize(img, image_size)\n",
    "        PRED = model_final.predict(np.array([img1])/255)[0]\n",
    "        # pred_class = class_names[np.argmax(PRED)]\n",
    "        pred = int(PRED[1] > score_threshold) # 2 クラスのとき限定…   ### 注意！\n",
    "        pred_class = class_names[pred]\n",
    "\n",
    "        if pred_class in draw_class.keys():\n",
    "            if np.random.rand() < draw_class[pred_class]:\n",
    "                num_drawn += 1\n",
    "                if scale_factor != 1:\n",
    "                    img = cv2.resize(img, dsize=None, fx = scale_factor, fy=scale_factor)\n",
    "                save_img_path = os.path.join(draw_img_dir, pred_class, img_name)\n",
    "                imsave(save_img_path, img, check_contrast=False)\n",
    "                df.loc[index, 'trimmed_imgName'] = img_name\n",
    "\n",
    "        df.loc[index, 'enet_class'] = pred_class\n",
    "        df.loc[index, 'enet_score'] = PRED[class_names.index('tooth')]\n",
    "    cnt += 1\n",
    "\n",
    "df.to_excel(save_excel_path)\n",
    "print('saved:', save_excel_path)\n",
    "\n",
    "dt_now = datetime.now(JST)\n",
    "print(dt_now.strftime(\"%H:%M\"), ' Done')\n",
    "beep()"
   ]
  },
  {
   "cell_type": "code",
   "execution_count": 41,
   "metadata": {
    "executionInfo": {
     "elapsed": 23,
     "status": "ok",
     "timestamp": 1645863781842,
     "user": {
      "displayName": "Kazuhide Mimura",
      "photoUrl": "https://lh3.googleusercontent.com/a/default-user=s64",
      "userId": "13848283603739284909"
     },
     "user_tz": -540
    },
    "id": "MQbLqjmkEknS"
   },
   "outputs": [],
   "source": [
    "# # 途中までで保存する場合\n",
    "# df.to_excel(save_excel_path)\n",
    "# print('saved:', save_excel_path)"
   ]
  },
  {
   "cell_type": "code",
   "execution_count": 42,
   "metadata": {
    "colab": {
     "base_uri": "https://localhost:8080/"
    },
    "executionInfo": {
     "elapsed": 15,
     "status": "ok",
     "timestamp": 1645863781843,
     "user": {
      "displayName": "Kazuhide Mimura",
      "photoUrl": "https://lh3.googleusercontent.com/a/default-user=s64",
      "userId": "13848283603739284909"
     },
     "user_tz": -540
    },
    "id": "A-5fQQt0wNa6",
    "outputId": "da6a5709-0d61-497a-a78a-82375240fdb7"
   },
   "outputs": [
    {
     "name": "stdout",
     "output_type": "stream",
     "text": [
      "tooth :  45 images\n",
      "noise :  343 images\n"
     ]
    }
   ],
   "source": [
    "for cl in draw_class.keys():\n",
    "    print(cl,': ', len(glob(os.path.join(draw_img_dir, cl, '*.jpg'))), 'images')"
   ]
  },
  {
   "cell_type": "code",
   "execution_count": null,
   "metadata": {
    "id": "O6DGL5sib_c0"
   },
   "outputs": [],
   "source": []
  }
 ],
 "metadata": {
  "accelerator": "GPU",
  "colab": {
   "collapsed_sections": [],
   "name": "eNetV2-predict_from_excel.ipynb",
   "provenance": []
  },
  "kernelspec": {
   "display_name": "Python 3",
   "language": "python",
   "name": "python3"
  },
  "language_info": {
   "codemirror_mode": {
    "name": "ipython",
    "version": 3
   },
   "file_extension": ".py",
   "mimetype": "text/x-python",
   "name": "python",
   "nbconvert_exporter": "python",
   "pygments_lexer": "ipython3",
   "version": "3.8.8"
  }
 },
 "nbformat": 4,
 "nbformat_minor": 1
}
